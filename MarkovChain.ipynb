{
 "cells": [
  {
   "cell_type": "markdown",
   "metadata": {},
   "source": [
    "# Markov Chain"
   ]
  },
  {
   "cell_type": "markdown",
   "metadata": {},
   "source": [
    "**Learning Objectives:** Learn how to build Markov Chains from n-grams and generate new sequences from the Markov Chains."
   ]
  },
  {
   "cell_type": "code",
   "execution_count": 1,
   "metadata": {
    "collapsed": true
   },
   "outputs": [],
   "source": [
    "import types\n",
    "from itertools import islice\n",
    "import random"
   ]
  },
  {
   "cell_type": "markdown",
   "metadata": {},
   "source": [
    "## n-grams"
   ]
  },
  {
   "cell_type": "markdown",
   "metadata": {},
   "source": [
    "You can read about the background information related to n-grams [here](https://en.wikipedia.org/wiki/N-gram). Write a function, `build_ngrams`, that returns n-grams from an input sequene (iterator). Try to do this without concrete lists. The `islice` function may be helpful."
   ]
  },
  {
   "cell_type": "code",
   "execution_count": 2,
   "metadata": {
    "collapsed": false,
    "deletable": false,
    "nbgrader": {
     "checksum": "91e898737a49eccfcddb1b81a5dc0081",
     "grade": false,
     "grade_id": "markovchaina",
     "locked": false,
     "solution": true
    }
   },
   "outputs": [],
   "source": [
    "def build_ngrams(itr, n=2):\n",
    "    \"\"\"Return the sequence of n-grams from the source iterator.\"\"\"\n",
    "    return zip(*[itr[i:] for i in range(n)])\n"
   ]
  },
  {
   "cell_type": "code",
   "execution_count": 3,
   "metadata": {
    "collapsed": false,
    "deletable": false,
    "nbgrader": {
     "checksum": "d5e2a40b50b1497822c07250c20e79fb",
     "grade": true,
     "grade_id": "markovchainb",
     "locked": true,
     "points": 4,
     "solution": false
    }
   },
   "outputs": [],
   "source": [
    "a = build_ngrams(range(10), n=2)\n",
    "assert hasattr(a, '__iter__') and not isinstance(a, list)\n",
    "al = list(a)\n",
    "assert al == [(i,i+1) for i in range(9)]\n",
    "\n",
    "b = build_ngrams(range(10), n=5)\n",
    "assert hasattr(b, '__iter__') and not isinstance(b, list)\n",
    "bl = list(b)\n",
    "assert bl == [(i,i+1,i+2,i+3,i+4) for i in range(6)]\n",
    "\n",
    "assert list(build_ngrams('one two three four five six seven'.split(' '), n=5)) == \\\n",
    "    [('one','two','three','four','five'),\n",
    "     ('two','three','four','five','six'),\n",
    "     ('three','four','five','six','seven')]"
   ]
  },
  {
   "cell_type": "markdown",
   "metadata": {},
   "source": [
    "## Markov chain"
   ]
  },
  {
   "cell_type": "markdown",
   "metadata": {},
   "source": [
    "You can read about the background of Markov Chains [here](https://en.wikipedia.org/wiki/Markov_chain). Write a function `build_chain`, that returns a Markov Chain for a sequence of n-grams. This function should return a `dict` with:\n",
    "\n",
    "* The keys will be the source node in the Markov Chain, which is the first `n-1` elements in each n-gram, as a `tuple`.\n",
    "* The values will be a *list* of possible targets in the Markov Chain. As you find new values for a single key, you will need to append to the list."
   ]
  },
  {
   "cell_type": "code",
   "execution_count": 4,
   "metadata": {
    "collapsed": false,
    "deletable": false,
    "nbgrader": {
     "checksum": "81db0d592629e73d52ebe4212ed7873f",
     "grade": false,
     "grade_id": "markovchainc",
     "locked": false,
     "solution": true
    }
   },
   "outputs": [],
   "source": [
    "def build_chain(ngrams, chain=None):\n",
    "    \"\"\"Build a Markov chain out of an iterator of n-grams.\n",
    "    \n",
    "    Parameters\n",
    "    ----------\n",
    "    ngrams: list of n-tuples\n",
    "        A list of n-grams as tuples, where the first n-1 elements are the source node\n",
    "        in the Markov chain ahd the last element is the target node in the Markov chain.\n",
    "    chain: dict or None\n",
    "        An existing Markov chain to add ngrams to or None for a new chain.\n",
    "    \"\"\"\n",
    "    # YOUR CODE HERE\n",
    "    dict = chain or {}\n",
    "    for gram in ngrams:\n",
    "        key = gram[0:len(gram)-1]\n",
    "        value = (list(gram))[len(gram)-1:]\n",
    "        if key not in dict:\n",
    "            dict[key]= value\n",
    "        else:\n",
    "            dict[key] += value        \n",
    "    \n",
    "    return dict"
   ]
  },
  {
   "cell_type": "code",
   "execution_count": 5,
   "metadata": {
    "collapsed": false,
    "deletable": false,
    "nbgrader": {
     "checksum": "cdc2c5a4d76be2333c46c36d3434a42b",
     "grade": true,
     "grade_id": "markovchaind",
     "locked": true,
     "points": 4,
     "solution": false
    }
   },
   "outputs": [],
   "source": [
    "random.seed(0)\n",
    "seq1 = [random.randint(0,10) for i in range(200)]\n",
    "chain = build_chain(build_ngrams(seq1, n=3))\n",
    "seq2 = [random.randint(0,10) for i in range(200)]\n",
    "chain = build_chain(build_ngrams(seq2, n=3), chain=chain)\n",
    "assert chain[(0,0)]==[7, 10, 0, 3, 4]\n",
    "assert chain[(4,2)]==[1, 3, 8, 3, 7, 1, 10, 2, 8]\n",
    "assert len(chain.keys())==111"
   ]
  },
  {
   "cell_type": "markdown",
   "metadata": {},
   "source": [
    "Write a function, `generate_sequence`, that can generate new sequences of length `m` from a trained Markov Chain (in the `dict` format described above). For the initial part of the sequence, randomly choose one of the keys in the Markov Chain `dict`."
   ]
  },
  {
   "cell_type": "code",
   "execution_count": 6,
   "metadata": {
    "collapsed": false,
    "deletable": false,
    "nbgrader": {
     "checksum": "c6a6198595980de73f730a79952898e9",
     "grade": false,
     "grade_id": "markovchaine",
     "locked": false,
     "solution": true
    }
   },
   "outputs": [],
   "source": [
    "import random\n",
    "\n",
    "def generate_sequence(chain, m):\n",
    "    \"\"\"Generate a new sequence of length n from a Markov chain.\n",
    "    \n",
    "    Parameter\n",
    "    ---------\n",
    "    chain : dict\n",
    "        A dict where the keys are the source node of the Markov chain steps and\n",
    "        the values are a list of possible targets.\n",
    "    m : int\n",
    "        The length of the sequence to generate.\n",
    "    \"\"\"\n",
    "    # YOUR CODE HERE\n",
    "    seq = list(chain.keys())\n",
    "    seq = seq[random.randint(0, len(seq)-1)]\n",
    "    \n",
    "    keyLen = len(seq)\n",
    "    \n",
    "    keySet = seq\n",
    "    seq = list(seq)\n",
    "    \n",
    "    for n in range(m - keyLen):\n",
    "        if keySet in chain:\n",
    "            length = len(chain[keySet])\n",
    "            seq.append(chain[keySet][random.randint(0, len(chain[keySet])-1)])\n",
    "        keySet = keySet[1:] + tuple([seq[len(seq)-1]])\n",
    "        \n",
    "    return seq"
   ]
  },
  {
   "cell_type": "code",
   "execution_count": 7,
   "metadata": {
    "collapsed": false,
    "deletable": false,
    "nbgrader": {
     "checksum": "faa5f8bc8e07683354c2b6acb23d4f45",
     "grade": true,
     "grade_id": "markovchainf",
     "locked": true,
     "points": 4,
     "solution": false
    },
    "scrolled": true
   },
   "outputs": [],
   "source": [
    "random.seed(0)\n",
    "seq3 = [random.randint(0,10) for i in range(200)]\n",
    "chain2 = build_chain(build_ngrams(seq1, n=3))\n",
    "assert list(generate_sequence(chain2, 10))==[8, 0, 1, 8, 10, 6, 8, 4, 8, 9]\n",
    "chain3 = build_chain(build_ngrams(seq1, n=5))\n",
    "assert list(generate_sequence(chain3, 10))==[4, 1, 8, 5, 8, 3, 9, 8, 9, 4]"
   ]
  },
  {
   "cell_type": "markdown",
   "metadata": {},
   "source": [
    "## Scrape the web to find lyrics"
   ]
  },
  {
   "cell_type": "markdown",
   "metadata": {},
   "source": [
    "For this part of the exercise, you will need to find lyrics from one of your favorite bands, and use the [requests](http://docs.python-requests.org/en/latest/) and [BeautifulSoup](http://www.crummy.com/software/BeautifulSoup/bs4/doc/) packages to scrape the lyrics from a website. Some guidance:\n",
    "\n",
    "1. The more songs the better (many dozens).\n",
    "2. No hand downloading or editing of the files, you must do everything from code.\n",
    "3. Save all of the lyrics in a single text file in this directory.\n",
    "\n",
    "I provide an example here of doing this for all of U2's lyrics. You will have to modify this code significantly for the band of your choice."
   ]
  },
  {
   "cell_type": "code",
   "execution_count": 8,
   "metadata": {
    "collapsed": false
   },
   "outputs": [],
   "source": [
    "import requests\n",
    "from bs4 import BeautifulSoup"
   ]
  },
  {
   "cell_type": "markdown",
   "metadata": {},
   "source": [
    "First get the page that has an index of all the lyrics and create a list of the URLs of those pages:"
   ]
  },
  {
   "cell_type": "code",
   "execution_count": 9,
   "metadata": {
    "collapsed": false
   },
   "outputs": [],
   "source": [
    "def get_lyric_urls():\n",
    "    index = requests.get(\"http://www.metrolyrics.com/system-of-a-down-lyrics.html\") # System of a Down\n",
    "#     index = requests.get(\"http://www.metrolyrics.com/taylor-swift-lyrics.html\") # System of a Down\n",
    "    \n",
    "    soup = BeautifulSoup(index.text, 'html.parser')\n",
    "    lyric_paths = [link.get('href') for link in  \n",
    "                   soup.find_all('tbody')[0].find_all('a')]\n",
    "    return lyric_paths"
   ]
  },
  {
   "cell_type": "code",
   "execution_count": 10,
   "metadata": {
    "collapsed": false
   },
   "outputs": [
    {
     "name": "stdout",
     "output_type": "stream",
     "text": [
      "['http://www.metrolyrics.com/chop-suey-lyrics-system-of-a-down.html', 'http://www.metrolyrics.com/violent-pornography-lyrics-system-of-a-down.html', 'http://www.metrolyrics.com/byob-lyrics-system-of-a-down.html', 'http://www.metrolyrics.com/toxicity-lyrics-system-of-a-down.html', 'http://www.metrolyrics.com/lonely-day-lyrics-system-of-a-down.html', 'http://www.metrolyrics.com/hypnotize-lyrics-system-of-a-down.html', 'http://www.metrolyrics.com/aerials-lyrics-system-of-a-down.html', 'http://www.metrolyrics.com/sugar-lyrics-system-of-a-down.html', 'http://www.metrolyrics.com/roulette-lyrics-system-of-a-down.html', 'http://www.metrolyrics.com/spiders-lyrics-system-of-a-down.html', 'http://www.metrolyrics.com/atwa-lyrics-system-of-a-down.html', 'http://www.metrolyrics.com/kill-rock-n-roll-lyrics-system-of-a-down.html', 'http://www.metrolyrics.com/pizza-pie-lyrics-system-of-a-down.html', 'http://www.metrolyrics.com/cigaro-lyrics-system-of-a-down.html', 'http://www.metrolyrics.com/radiovideo-lyrics-system-of-a-down.html', 'http://www.metrolyrics.com/question-lyrics-system-of-a-down.html', 'http://www.metrolyrics.com/lost-in-hollywood-lyrics-system-of-a-down.html', 'http://www.metrolyrics.com/soldier-side-lyrics-system-of-a-down.html', 'http://www.metrolyrics.com/bounce-lyrics-system-of-a-down.html', 'http://www.metrolyrics.com/dreaming-lyrics-system-of-a-down.html', 'http://www.metrolyrics.com/suitepee-lyrics-system-of-a-down.html', 'http://www.metrolyrics.com/fuck-the-system-lyrics-system-of-a-down.html', 'http://www.metrolyrics.com/sad-statue-lyrics-system-of-a-down.html', 'http://www.metrolyrics.com/psycho-lyrics-system-of-a-down.html', 'http://www.metrolyrics.com/i-e-a-i-a-i-o-lyrics-system-of-a-down.html', 'http://www.metrolyrics.com/revenga-lyrics-system-of-a-down.html', 'http://www.metrolyrics.com/add-lyrics-system-of-a-down.html', 'http://www.metrolyrics.com/prison-song-lyrics-system-of-a-down.html', 'http://www.metrolyrics.com/forest-lyrics-system-of-a-down.html', 'http://www.metrolyrics.com/deer-dance-lyrics-system-of-a-down.html', 'http://www.metrolyrics.com/science-lyrics-system-of-a-down.html', 'http://www.metrolyrics.com/shes-like-heroin-lyrics-system-of-a-down.html', 'http://www.metrolyrics.com/needles-lyrics-system-of-a-down.html', 'http://www.metrolyrics.com/vicinity-of-obscenity-lyrics-system-of-a-down.html', 'http://www.metrolyrics.com/legend-of-zelda-lyrics-system-of-a-down.html', 'http://www.metrolyrics.com/this-cocaine-makes-me-feel-like-im-on-this-song-lyrics-system-of-a-down.html', 'http://www.metrolyrics.com/confrontation-lyrics-system-of-a-down.html', 'http://www.metrolyrics.com/bubbles-lyrics-system-of-a-down.html', 'http://www.metrolyrics.com/tentative-lyrics-system-of-a-down.html', 'http://www.metrolyrics.com/innervision-lyrics-system-of-a-down.html', 'http://www.metrolyrics.com/highway-song-lyrics-system-of-a-down.html', 'http://www.metrolyrics.com/holy-mountains-lyrics-system-of-a-down.html', 'http://www.metrolyrics.com/old-school-hollywood-lyrics-system-of-a-down.html', 'http://www.metrolyrics.com/mind-lyrics-system-of-a-down.html', 'http://www.metrolyrics.com/mushroom-cult-lyrics-system-of-a-down.html', 'http://www.metrolyrics.com/jet-pilot-lyrics-system-of-a-down.html', 'http://www.metrolyrics.com/shimmy-lyrics-system-of-a-down.html', 'http://www.metrolyrics.com/chic-n-stu-lyrics-system-of-a-down.html', 'http://www.metrolyrics.com/mr-jack-lyrics-system-of-a-down.html', 'http://www.metrolyrics.com/peephole-lyrics-system-of-a-down.html', 'http://www.metrolyrics.com/they-will-die-for-you-lyrics-system-of-a-down.html', 'http://www.metrolyrics.com/arials-lyrics-system-of-a-down.html', 'http://www.metrolyrics.com/x-lyrics-system-of-a-down.html', 'http://www.metrolyrics.com/ego-brain-lyrics-system-of-a-down.html', 'http://www.metrolyrics.com/chick-n-stew-lyrics-system-of-a-down.html', 'http://www.metrolyrics.com/attack-lyrics-system-of-a-down.html', 'http://www.metrolyrics.com/stealing-society-lyrics-system-of-a-down.html', 'http://www.metrolyrics.com/pluck-lyrics-system-of-a-down.html', 'http://www.metrolyrics.com/darts-lyrics-system-of-a-down.html', 'http://www.metrolyrics.com/war-lyrics-system-of-a-down.html', 'http://www.metrolyrics.com/boom-lyrics-system-of-a-down.html', 'http://www.metrolyrics.com/fortress-lyrics-system-of-a-down.html', 'http://www.metrolyrics.com/snowblind-lyrics-system-of-a-down.html', 'http://www.metrolyrics.com/pictures-lyrics-system-of-a-down.html', 'http://www.metrolyrics.com/ufig-lyrics-system-of-a-down.html', 'http://www.metrolyrics.com/feel-good-lyrics-system-of-a-down.html', 'http://www.metrolyrics.com/cubert-lyrics-system-of-a-down.html', 'http://www.metrolyrics.com/soil-lyrics-system-of-a-down.html', 'http://www.metrolyrics.com/know-lyrics-system-of-a-down.html', 'http://www.metrolyrics.com/streamline-lyrics-system-of-a-down.html', 'http://www.metrolyrics.com/suggestions-lyrics-system-of-a-down.html', 'http://www.metrolyrics.com/kill-your-rock-n-roll-lyrics-system-of-a-down.html', 'http://www.metrolyrics.com/f-the-system-lyrics-system-of-a-down.html', 'http://www.metrolyrics.com/thetawaves-lyrics-system-of-a-down.html', 'http://www.metrolyrics.com/ieaiaio-lyrics-system-of-a-down.html']\n"
     ]
    }
   ],
   "source": [
    "lyric_urls = get_lyric_urls()"
   ]
  },
  {
   "cell_type": "markdown",
   "metadata": {},
   "source": [
    "Here is a function that takes the URL of a single lyric page and scrapes the actual lyric as text:"
   ]
  },
  {
   "cell_type": "code",
   "execution_count": 11,
   "metadata": {
    "collapsed": false
   },
   "outputs": [],
   "source": [
    "def get_lyric(url):\n",
    "    r = requests.get(url)\n",
    "    soup = BeautifulSoup(r.text, 'html.parser')\n",
    "    html_lyrics = soup.find_all('div', class_='lyrics-body')[0].find_all('p')\n",
    "    html_lyrics = [l.getText() for l in html_lyrics]\n",
    "    return '\\n'.join(html_lyrics)"
   ]
  },
  {
   "cell_type": "markdown",
   "metadata": {},
   "source": [
    "This gets all of the lyrics. Note the `time.sleep(1.0)`. When scraping websites, it is often important to throttle your requests so as to not get banned from the website."
   ]
  },
  {
   "cell_type": "code",
   "execution_count": 12,
   "metadata": {
    "collapsed": true
   },
   "outputs": [],
   "source": [
    "import time\n",
    "\n",
    "def get_all_lyrics(lyric_urls):\n",
    "    for url in lyric_urls:\n",
    "        time.sleep(1.0)\n",
    "        yield get_lyric(url)"
   ]
  },
  {
   "cell_type": "code",
   "execution_count": 13,
   "metadata": {
    "collapsed": false
   },
   "outputs": [],
   "source": [
    "lyrics = get_all_lyrics(lyric_urls)"
   ]
  },
  {
   "cell_type": "markdown",
   "metadata": {},
   "source": [
    "Now save all the lyrics to a text file:"
   ]
  },
  {
   "cell_type": "code",
   "execution_count": 14,
   "metadata": {
    "collapsed": false
   },
   "outputs": [],
   "source": [
    "with open('all_soad_lyrics.txt', 'w') as f:\n",
    "    for lyric in lyrics:\n",
    "        f.write(lyric.replace('\\r\\n', '\\n'))\n",
    "        f.write('\\n')"
   ]
  },
  {
   "cell_type": "markdown",
   "metadata": {},
   "source": [
    "Leave the following cell to grade your code for this section:"
   ]
  },
  {
   "cell_type": "code",
   "execution_count": 15,
   "metadata": {
    "collapsed": true,
    "deletable": false,
    "nbgrader": {
     "checksum": "f889417210aa361e68fb66b457e7c256",
     "grade": true,
     "grade_id": "markovchaing",
     "locked": true,
     "points": 4,
     "solution": false
    }
   },
   "outputs": [],
   "source": [
    "assert True"
   ]
  },
  {
   "cell_type": "markdown",
   "metadata": {},
   "source": [
    "## Generate new lyrics with the Markov chain"
   ]
  },
  {
   "cell_type": "markdown",
   "metadata": {},
   "source": [
    "Here is the fun part!"
   ]
  },
  {
   "cell_type": "code",
   "execution_count": 16,
   "metadata": {
    "collapsed": true
   },
   "outputs": [],
   "source": [
    "import textwrap"
   ]
  },
  {
   "cell_type": "markdown",
   "metadata": {},
   "source": [
    "Here are some simple function for tokenizing the lyrics:"
   ]
  },
  {
   "cell_type": "code",
   "execution_count": 17,
   "metadata": {
    "collapsed": false
   },
   "outputs": [],
   "source": [
    "from quicktoken import tokenize_lines, tokenize_line, files_to_lines"
   ]
  },
  {
   "cell_type": "markdown",
   "metadata": {},
   "source": [
    "Read in your lyric file, tokenize the text (no stop words!) and generate new song lyrics. Some things to think about:\n",
    "\n",
    "* This will work best if you generate new lines of text of some finite length (10-30 words).\n",
    "* Use `textwrap.wrap` to format these lines and separate them using newlines.\n",
    "* To get interesting results, you may need to run it multiple times."
   ]
  },
  {
   "cell_type": "code",
   "execution_count": 18,
   "metadata": {
    "collapsed": false,
    "deletable": false,
    "nbgrader": {
     "checksum": "dcee0be047fd121f6d9718b809f5538a",
     "grade": true,
     "grade_id": "markovchainh",
     "locked": false,
     "points": 4,
     "solution": true
    }
   },
   "outputs": [],
   "source": [
    "# YOUR CODE HERE\n",
    "def capitalizeI(line):\n",
    "    for word in range(len(line)):\n",
    "        if line[word] == 'i' or line[word][0:2] == 'i\\'':\n",
    "            line[word] = line[word][0].upper() + line[word][1:]\n",
    "    return line\n",
    "\n",
    "def stanza(line, i):\n",
    "    if (i + 1) % 4 == 0:\n",
    "        for l in range(len(line)):\n",
    "            if l == len(line) - 1:\n",
    "                line[l] += \".\\n\"\n",
    "    return line\n",
    "        \n",
    "def generate_song():\n",
    "    seqFile = list(tokenize_lines(files_to_lines(['all_soad_lyrics.txt'])))\n",
    "\n",
    "    chainFile = build_chain(build_ngrams(seqFile, n=8))\n",
    "    song = []\n",
    "    for i in range(16):\n",
    "        line = list(generate_sequence(chainFile, 8))\n",
    "\n",
    "        line[0] = line[0][0:1].upper() + line[0][1:]  #first letter is uppercase\n",
    "        line = capitalizeI(line)\n",
    "        line = stanza(line, i)\n",
    "    \n",
    "        song.append(\" \".join(line))\n",
    "\n",
    "    return song"
   ]
  },
  {
   "cell_type": "code",
   "execution_count": 19,
   "metadata": {
    "collapsed": false
   },
   "outputs": [
    {
     "name": "stdout",
     "output_type": "stream",
     "text": [
      "Asshole when I killed your rock 'n roll\n",
      "Shall attack we shall attack yeah alright yeah\n",
      "Bottled water bottled water human right is private\n",
      "Maybe you deserve to die they were crying.\n",
      "\n",
      "Popcorn everywhere canned clich people organs rare corn\n",
      "While in your back a knife I'm leaving\n",
      "You coming to break you make you just\n",
      "Want to go but you never want to.\n",
      "\n",
      "Eyes everyday I'm watching you die all the\n",
      "Taking faking oh ho my sweet clementine ho\n",
      "Weak around a rush of words pleading to\n",
      "In the power struggle may I remind you.\n",
      "\n",
      "Revelation was all true you drew first blood\n",
      "Soul I sold my soul away I'm free\n",
      "Us see the fall as I turn to\n",
      "Lies maybe you're a mourner maybe you deserve.\n",
      "\n"
     ]
    }
   ],
   "source": [
    "# textwrap.wrap(song, 40)\n",
    "print(\"\\n\".join(generate_song()))"
   ]
  },
  {
   "cell_type": "code",
   "execution_count": null,
   "metadata": {
    "collapsed": true
   },
   "outputs": [],
   "source": []
  },
  {
   "cell_type": "code",
   "execution_count": null,
   "metadata": {
    "collapsed": true
   },
   "outputs": [],
   "source": []
  }
 ],
 "metadata": {
  "kernelspec": {
   "display_name": "Python 3",
   "language": "python",
   "name": "python3"
  },
  "language_info": {
   "codemirror_mode": {
    "name": "ipython",
    "version": 3
   },
   "file_extension": ".py",
   "mimetype": "text/x-python",
   "name": "python",
   "nbconvert_exporter": "python",
   "pygments_lexer": "ipython3",
   "version": "3.4.3"
  }
 },
 "nbformat": 4,
 "nbformat_minor": 0
}
